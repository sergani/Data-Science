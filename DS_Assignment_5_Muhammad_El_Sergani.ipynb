{
  "cells": [
    {
      "cell_type": "code",
      "source": [
        "import numpy as np"
      ],
      "metadata": {
        "id": "bkMg_sDkTfRa"
      },
      "execution_count": 2,
      "outputs": []
    },
    {
      "cell_type": "markdown",
      "metadata": {
        "id": "POl61RX1TElb"
      },
      "source": [
        "## Write a Numpy program to compute the multiplication of two given matrixes"
      ]
    },
    {
      "cell_type": "code",
      "execution_count": 37,
      "metadata": {
        "id": "6WHy_WTETEle"
      },
      "outputs": [],
      "source": [
        "def mat_mult(x, y):\n",
        "  if len(x.shape) != 1 and len(y.shape) != 1:\n",
        "    if x.shape[1] == y.shape[1]:\n",
        "      return x * y\n",
        "  elif len(x.shape) == 1 and len(y.shape) == 1:\n",
        "    if x.shape[0] == y.shape[0]:\n",
        "      return x * y\n",
        "  elif len(x.shape) == 1:\n",
        "    if x.shape[0] == y.shape[1]:\n",
        "      return x * y\n",
        "  elif len(y.shape) == 1:\n",
        "    if x.shape[1] == y.shape[0]:\n",
        "      return x * y"
      ]
    },
    {
      "cell_type": "code",
      "execution_count": 38,
      "metadata": {
        "colab": {
          "base_uri": "https://localhost:8080/"
        },
        "id": "qNz7Qe1rTElf",
        "outputId": "46d3b8d5-3fda-43ff-8c46-7d5d3844f392"
      },
      "outputs": [
        {
          "output_type": "execute_result",
          "data": {
            "text/plain": [
              "array([[ 4, 10, 18],\n",
              "       [35, 42, 49]])"
            ]
          },
          "metadata": {},
          "execution_count": 38
        }
      ],
      "source": [
        "a = np.array([[1,2,3],[5,6,7]])\n",
        "b = np.array([[4,5,6],[7,7,7]])\n",
        "\n",
        "mat_mult(a, b)"
      ]
    },
    {
      "cell_type": "markdown",
      "metadata": {
        "id": "tPzFwe7HTElf"
      },
      "source": [
        "## Write a NumPy program to compute the determinant of a given square array"
      ]
    },
    {
      "cell_type": "code",
      "execution_count": 39,
      "metadata": {
        "id": "KdgRDO-PTElg"
      },
      "outputs": [],
      "source": [
        "def mat_det(x):\n",
        "  if len(x.shape) != 1:     # not a vector\n",
        "    return np.linalg.det()"
      ]
    },
    {
      "cell_type": "code",
      "execution_count": 57,
      "metadata": {
        "colab": {
          "base_uri": "https://localhost:8080/"
        },
        "id": "8HJv6g3fTElg",
        "outputId": "3fdb9376-1bb6-4bfe-b8bf-40df37090c3e"
      },
      "outputs": [
        {
          "output_type": "execute_result",
          "data": {
            "text/plain": [
              "8.526512829121214e-12"
            ]
          },
          "metadata": {},
          "execution_count": 57
        }
      ],
      "source": [
        "a = np.arange(5,90,10,dtype=np.float64).reshape(3,3)\n",
        "mat_det(a)"
      ]
    },
    {
      "cell_type": "markdown",
      "metadata": {
        "id": "vYwn3zJATElh"
      },
      "source": [
        "## Write a NumPy program to compute the cross product of two given vectors"
      ]
    },
    {
      "cell_type": "code",
      "execution_count": 61,
      "metadata": {
        "id": "XX1OPDeqTElh"
      },
      "outputs": [],
      "source": [
        "def vec_cross(x, y):\n",
        "  if len(x.shape) == 1 and len(y.shape) == 1:\n",
        "    if x.shape[0] == y.shape[0]:\n",
        "      return x * y"
      ]
    },
    {
      "cell_type": "code",
      "execution_count": 62,
      "metadata": {
        "colab": {
          "base_uri": "https://localhost:8080/"
        },
        "id": "cBw1aR3VTEli",
        "outputId": "1648cb12-229f-4d79-d7c9-b80b619d70ec"
      },
      "outputs": [
        {
          "output_type": "execute_result",
          "data": {
            "text/plain": [
              "array([ 1,  4,  9, 16, 25])"
            ]
          },
          "metadata": {},
          "execution_count": 62
        }
      ],
      "source": [
        "a = np.array([1,2,3,4,5])\n",
        "b = np.array([1,2,3,4,5])\n",
        "\n",
        "vec_cross(a, b)"
      ]
    },
    {
      "cell_type": "markdown",
      "metadata": {
        "id": "nL-3ewH_TEli"
      },
      "source": [
        "## Write a NumPy program to compute the condition number of a given matrix"
      ]
    },
    {
      "cell_type": "code",
      "execution_count": 68,
      "metadata": {
        "id": "juV0vdfaTElj"
      },
      "outputs": [],
      "source": [
        "def mat_cond(x):\n",
        "  if len(x.shape) != 1:\n",
        "    return np.linalg.cond(x)"
      ]
    },
    {
      "cell_type": "code",
      "execution_count": 70,
      "metadata": {
        "colab": {
          "base_uri": "https://localhost:8080/"
        },
        "id": "q0oq_CP6TElj",
        "outputId": "6494c019-d356-47f2-9b28-48d3f9b1e026"
      },
      "outputs": [
        {
          "output_type": "execute_result",
          "data": {
            "text/plain": [
              "3.813147060626918e+16"
            ]
          },
          "metadata": {},
          "execution_count": 70
        }
      ],
      "source": [
        "a = np.arange(1,10,1).reshape(3,3)\n",
        "mat_cond(a)"
      ]
    },
    {
      "cell_type": "markdown",
      "metadata": {
        "id": "UWhlYH__TElj"
      },
      "source": [
        "## Write a NumPy program to compute the inverse of a given matrix"
      ]
    },
    {
      "cell_type": "code",
      "execution_count": 83,
      "metadata": {
        "id": "t-lXRhScTElk"
      },
      "outputs": [],
      "source": [
        "def mat_inv(x):\n",
        "  if len(x.shape) != 1:\n",
        "    if x.shape[0] == x.shape[1]:\n",
        "      return np.linalg.inv(x)"
      ]
    },
    {
      "cell_type": "code",
      "execution_count": 84,
      "metadata": {
        "colab": {
          "base_uri": "https://localhost:8080/"
        },
        "id": "L4anzeV4TElk",
        "outputId": "de63c1ea-99c9-47f2-d0b3-0af4ccf940e8"
      },
      "outputs": [
        {
          "output_type": "execute_result",
          "data": {
            "text/plain": [
              "array([[ 0.75257732, -0.07216495, -0.69072165,  0.4742268 ],\n",
              "       [-0.19587629, -0.51546392,  0.49484536, -0.04123711],\n",
              "       [-0.07216495,  0.02061856,  0.34020619, -0.27835052],\n",
              "       [-0.01030928,  0.28865979, -0.2371134 ,  0.10309278]])"
            ]
          },
          "metadata": {},
          "execution_count": 84
        }
      ],
      "source": [
        "a = np.array([[2,1,4,2],\n",
        "              [1,2,4,7],\n",
        "              [2,5,6,9],\n",
        "              [2,6,3,11]])\n",
        "\n",
        "mat_inv(a)"
      ]
    }
  ],
  "metadata": {
    "kernelspec": {
      "display_name": "Python 3",
      "language": "python",
      "name": "python3"
    },
    "language_info": {
      "codemirror_mode": {
        "name": "ipython",
        "version": 3
      },
      "file_extension": ".py",
      "mimetype": "text/x-python",
      "name": "python",
      "nbconvert_exporter": "python",
      "pygments_lexer": "ipython3",
      "version": "3.7.3"
    },
    "colab": {
      "name": "DS-Assignment_5_Muhammad_El_Sergani.ipynb",
      "provenance": []
    }
  },
  "nbformat": 4,
  "nbformat_minor": 0
}